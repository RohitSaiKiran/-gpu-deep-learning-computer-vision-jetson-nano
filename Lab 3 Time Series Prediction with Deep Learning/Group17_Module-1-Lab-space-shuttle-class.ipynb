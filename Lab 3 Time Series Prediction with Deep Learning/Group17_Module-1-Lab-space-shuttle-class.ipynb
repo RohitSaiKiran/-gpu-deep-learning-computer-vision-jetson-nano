{
 "cells": [
  {
   "cell_type": "markdown",
   "metadata": {
    "id": "mJM2fvmfH3O6"
   },
   "source": [
    "Time-series forecasting and prediction on tabular data using PyTorch. Supports Jetson Nano, TX1/TX2, AGX Xavier, and Xavier NX."
   ]
  },
  {
   "cell_type": "markdown",
   "metadata": {
    "id": "1HosD5F8-OSY"
   },
   "source": [
    "# Space Shuttle Classification\n",
    "\n",
    "This classification [dataset](https://archive.ics.uci.edu/ml/datasets/Statlog+%28Shuttle%29) from the UCI Machine Learning Repository contains the values from 9 sensors and has 7 state classes:"
   ]
  },
  {
   "cell_type": "code",
   "execution_count": 1,
   "metadata": {
    "id": "4nO86kl6__iQ"
   },
   "outputs": [
    {
     "name": "stdout",
     "output_type": "stream",
     "text": [
      "Total samples: 58000\n"
     ]
    }
   ],
   "source": [
    "class_distribution = {\n",
    "    'Rad Flow': 45586,\n",
    "    'Fpv Close': 50,\n",
    "    'Fpv Open': 171,\n",
    "    'High': 8903,\n",
    "    'Bypass': 3267,\n",
    "    'Bpv Close': 10,\n",
    "    'Bpv Open': 13\n",
    "}\n",
    "\n",
    "total_samples = sum(class_distribution.values())\n",
    "\n",
    "print(f\"Total samples: {total_samples}\")\n"
   ]
  },
  {
   "cell_type": "markdown",
   "metadata": {
    "id": "FKmCV1Jl_-To"
   },
   "source": [
    "The goal is to predict the state of the system from the current sensor data. Given the unbalanced distribution of data between the classes, this example is akin to anomoly detection."
   ]
  },
  {
   "cell_type": "markdown",
   "metadata": {
    "id": "ofwee72jIS6v"
   },
   "source": [
    "# Getting Started\n",
    "\n",
    "## Software Requirement\n",
    "\n",
    "- PyTorch\n",
    "- CUDA"
   ]
  },
  {
   "cell_type": "markdown",
   "metadata": {
    "id": "QxqN1ZrQC_WD"
   },
   "source": [
    "## Starting the container"
   ]
  },
  {
   "cell_type": "code",
   "execution_count": 2,
   "metadata": {
    "id": "v82J7ZKbHUIq"
   },
   "outputs": [
    {
     "name": "stdout",
     "output_type": "stream",
     "text": [
      "fatal: destination path 'pytorch-timeseries' already exists and is not an empty directory.\n"
     ]
    }
   ],
   "source": [
    "!git clone https://github.com/dusty-nv/pytorch-timeseries"
   ]
  },
  {
   "cell_type": "code",
   "execution_count": 3,
   "metadata": {
    "id": "XmP83rkOIqtQ"
   },
   "outputs": [
    {
     "name": "stdout",
     "output_type": "stream",
     "text": [
      "/nvdli-nano/data/Group17_Assignment/Lab 3/pytorch-timeseries\n"
     ]
    }
   ],
   "source": [
    "cd pytorch-timeseries"
   ]
  },
  {
   "cell_type": "code",
   "execution_count": 4,
   "metadata": {
    "id": "1jljLeJAIqzf"
   },
   "outputs": [
    {
     "name": "stdout",
     "output_type": "stream",
     "text": [
      "head: cannot open '/etc/nv_tegra_release' for reading: No such file or directory\n",
      "reading L4T version from \"dpkg-query --show nvidia-l4t-core\"\n",
      "dpkg-query: no packages found matching nvidia-l4t-core\n",
      "L4T BSP Version:  L4T R.\n",
      "CONTAINER:     \n",
      "DEV_VOLUME:    \n",
      "DATA_VOLUME:   --volume /nvdli-nano/data/Group17_Assignment/Lab 3/pytorch-timeseries:/pytorch-timeseries\n",
      "USER_VOLUME:   \n",
      "USER_COMMAND:  \n",
      "docker/run.sh: line 141: sudo: command not found\n"
     ]
    }
   ],
   "source": [
    "!docker/run.sh"
   ]
  },
  {
   "cell_type": "code",
   "execution_count": 5,
   "metadata": {
    "id": "BhmpEJcyIq5Q"
   },
   "outputs": [
    {
     "name": "stdout",
     "output_type": "stream",
     "text": [
      "/nvdli-nano/data/Group17_Assignment/Lab 3/pytorch-timeseries/pytorch-timeseries\n"
     ]
    }
   ],
   "source": [
    "cd pytorch-timeseries"
   ]
  },
  {
   "cell_type": "markdown",
   "metadata": {
    "id": "96sgPeu5HmgE"
   },
   "source": [
    "# Running the training script\n",
    "\n",
    "Train.py allows you to:\n",
    "\n",
    "- pick any number of inputs / outputs\n",
    "- support both regression and classification\n",
    "- easily change the model\n",
    "- automatic plotting"
   ]
  },
  {
   "cell_type": "code",
   "execution_count": 6,
   "metadata": {
    "id": "-wcE7aOXAWKs"
   },
   "outputs": [
    {
     "name": "stdout",
     "output_type": "stream",
     "text": [
      "Namespace(batch_size=-1, classification=True, data='data/shuttle.csv', epochs=100, history=0, horizon=0, input_scaler='standard', inputs='0,1,2,3,4,5,6,7,8', learning_rate=0.05, metrics='accuracy,precision,recall,F1', model='linear', output_scaler='none', outputs='class', plot='data/shuttle.jpg', plot_height=1080, plot_width=1920, plot_x=0, scheduler='StepLR_250')\n",
      "loading data/shuttle.csv\n",
      "\n",
      "*************************************************\n",
      "** DATASET INFO\n",
      "*************************************************\n",
      "train:        46400 samples\n",
      "val:          11600 samples\n",
      "inputs:       9 ['0', '1', '2', '3', '4', '5', '6', '7', '8']\n",
      "outputs:      1 ['class']\n",
      "columns:      ['0', '1', '2', '3', '4', '5', '6', '7', '8', 'class']\n",
      "classes:      [0, 1, 2, 3, 4, 5, 6]\n",
      "class distribution:\n",
      "  [0] - 45586 samples\n",
      "  [1] - 50 samples\n",
      "  [2] - 171 samples\n",
      "  [3] - 8903 samples\n",
      "  [4] - 3267 samples\n",
      "  [5] - 10 samples\n",
      "  [6] - 13 samples\n",
      "\n",
      "        0   1    2  3   4   5   6    7    8  class\n",
      "0      50  21   77  0  28   0  27   48   22      1\n",
      "1      55   0   92  0   0  26  36   92   56      3\n",
      "2      53   0   82  0  52  -5  29   30    2      0\n",
      "3      37   0   76  0  28  18  40   48    8      0\n",
      "4      37   0   79  0  34 -26  43   46    2      0\n",
      "...    ..  ..  ... ..  ..  ..  ..  ...  ...    ...\n",
      "57995  80   0   84  0 -36 -29   4  120  116      4\n",
      "57996  55   0   81  0 -20  25  26  102   76      3\n",
      "57997  55   0   77  0  12 -22  22   65   42      3\n",
      "57998  37   0  103  0  18 -16  66   85   20      0\n",
      "57999  56   2   98  0  52   1  42   46    4      3\n",
      "\n",
      "[58000 rows x 10 columns]\n",
      "Epoch 000  LR=0.05  train_loss=1.93297780  val_loss=1.22004306  train_acc=0.1492  val_acc=0.7915  (best)\n",
      "Epoch 001  LR=0.05  train_loss=1.23446882  val_loss=0.67861760  train_acc=0.7846  val_acc=0.755   (best)\n",
      "Epoch 002  LR=0.05  train_loss=0.67466682  val_loss=0.25827625  train_acc=0.7608  val_acc=0.9052  (best)\n",
      "Epoch 003  LR=0.05  train_loss=0.25450015  val_loss=0.25486258  train_acc=0.9034  val_acc=0.9353  (best)\n",
      "Epoch 004  LR=0.05  train_loss=0.24644455  val_loss=0.25225005  train_acc=0.9336  val_acc=0.9622  (best)\n",
      "Epoch 005  LR=0.05  train_loss=0.24140716  val_loss=0.22651610  train_acc=0.9603  val_acc=0.976   (best)\n",
      "Epoch 006  LR=0.05  train_loss=0.21479429  val_loss=0.19221681  train_acc=0.9756  val_acc=0.9758  (best)\n",
      "Epoch 007  LR=0.05  train_loss=0.18229477  val_loss=0.16565058  train_acc=0.9767  val_acc=0.9683  (best)\n",
      "Epoch 008  LR=0.05  train_loss=0.14852779  val_loss=0.14251499  train_acc=0.9687  val_acc=0.9718  (best)\n",
      "Epoch 009  LR=0.05  train_loss=0.12231597  val_loss=0.11686581  train_acc=0.9722  val_acc=0.9823  (best)\n",
      "Epoch 010  LR=0.05  train_loss=0.09463669  val_loss=0.11470170  train_acc=0.9841  val_acc=0.9859  (best)\n",
      "Epoch 011  LR=0.05  train_loss=0.09465825  val_loss=0.09816720  train_acc=0.9867  val_acc=0.9871  (best)\n",
      "Epoch 012  LR=0.05  train_loss=0.07694355  val_loss=0.10582644  train_acc=0.9864  val_acc=0.9899\n",
      "Epoch 013  LR=0.05  train_loss=0.07304843  val_loss=0.11335887  train_acc=0.9888  val_acc=0.9896\n",
      "Epoch 014  LR=0.05  train_loss=0.07008963  val_loss=0.11857755  train_acc=0.9891  val_acc=0.9903\n",
      "Epoch 015  LR=0.05  train_loss=0.07227054  val_loss=0.11641509  train_acc=0.9897  val_acc=0.9942\n",
      "Epoch 016  LR=0.05  train_loss=0.06574635  val_loss=0.12102474  train_acc=0.9938  val_acc=0.9941\n",
      "Epoch 017  LR=0.05  train_loss=0.06518172  val_loss=0.11921979  train_acc=0.9931  val_acc=0.9927\n",
      "Epoch 018  LR=0.05  train_loss=0.06247220  val_loss=0.11626391  train_acc=0.9928  val_acc=0.9916\n",
      "Epoch 019  LR=0.05  train_loss=0.05880350  val_loss=0.11096656  train_acc=0.9913  val_acc=0.9954\n",
      "Epoch 020  LR=0.05  train_loss=0.05185070  val_loss=0.10502670  train_acc=0.9954  val_acc=0.9952\n",
      "Epoch 021  LR=0.05  train_loss=0.04855157  val_loss=0.10267904  train_acc=0.9946  val_acc=0.9945\n",
      "Epoch 022  LR=0.05  train_loss=0.04399493  val_loss=0.09135051  train_acc=0.9945  val_acc=0.9947  (best)\n",
      "Epoch 023  LR=0.05  train_loss=0.03768435  val_loss=0.07908447  train_acc=0.9946  val_acc=0.9943  (best)\n",
      "Epoch 024  LR=0.05  train_loss=0.03475744  val_loss=0.07396746  train_acc=0.9945  val_acc=0.9946  (best)\n",
      "Epoch 025  LR=0.05  train_loss=0.03033676  val_loss=0.06823444  train_acc=0.9947  val_acc=0.9949  (best)\n",
      "Epoch 026  LR=0.05  train_loss=0.02647476  val_loss=0.06119898  train_acc=0.9946  val_acc=0.9954  (best)\n",
      "Epoch 027  LR=0.05  train_loss=0.02348159  val_loss=0.06728444  train_acc=0.995   val_acc=0.9949\n",
      "Epoch 028  LR=0.05  train_loss=0.02486661  val_loss=0.06785534  train_acc=0.995   val_acc=0.9953\n",
      "Epoch 029  LR=0.05  train_loss=0.02195353  val_loss=0.07077004  train_acc=0.9953  val_acc=0.9948\n",
      "Epoch 030  LR=0.05  train_loss=0.02268846  val_loss=0.06496912  train_acc=0.9947  val_acc=0.9961\n",
      "Epoch 031  LR=0.05  train_loss=0.01977757  val_loss=0.06308636  train_acc=0.9956  val_acc=0.9962\n",
      "Epoch 032  LR=0.05  train_loss=0.01850987  val_loss=0.06161601  train_acc=0.996   val_acc=0.9967\n",
      "Epoch 033  LR=0.05  train_loss=0.01757078  val_loss=0.06092116  train_acc=0.9964  val_acc=0.9966  (best)\n",
      "Epoch 034  LR=0.05  train_loss=0.01567907  val_loss=0.06689182  train_acc=0.9963  val_acc=0.9966\n",
      "Epoch 035  LR=0.05  train_loss=0.01519355  val_loss=0.06649991  train_acc=0.9964  val_acc=0.9966\n",
      "Epoch 036  LR=0.05  train_loss=0.01436331  val_loss=0.06074617  train_acc=0.9966  val_acc=0.9966  (best)\n",
      "Epoch 037  LR=0.05  train_loss=0.01329375  val_loss=0.06035515  train_acc=0.9968  val_acc=0.9967  (best)\n",
      "Epoch 038  LR=0.05  train_loss=0.01391914  val_loss=0.06634369  train_acc=0.9968  val_acc=0.9966\n",
      "Epoch 039  LR=0.05  train_loss=0.01136983  val_loss=0.07247233  train_acc=0.9967  val_acc=0.9967\n",
      "Epoch 040  LR=0.05  train_loss=0.01227182  val_loss=0.07069987  train_acc=0.9967  val_acc=0.9968\n",
      "Epoch 041  LR=0.05  train_loss=0.01174045  val_loss=0.06220870  train_acc=0.9968  val_acc=0.997 \n",
      "Epoch 042  LR=0.05  train_loss=0.01033761  val_loss=0.05944964  train_acc=0.997   val_acc=0.9971  (best)\n",
      "Epoch 043  LR=0.05  train_loss=0.00929204  val_loss=0.06668521  train_acc=0.9971  val_acc=0.997 \n",
      "Epoch 044  LR=0.05  train_loss=0.01250735  val_loss=0.05544272  train_acc=0.9972  val_acc=0.9971  (best)\n",
      "Epoch 045  LR=0.05  train_loss=0.00856549  val_loss=0.05474483  train_acc=0.9974  val_acc=0.9972  (best)\n",
      "Epoch 046  LR=0.05  train_loss=0.00928522  val_loss=0.05480127  train_acc=0.9973  val_acc=0.9972\n",
      "Epoch 047  LR=0.05  train_loss=0.00905658  val_loss=0.04934521  train_acc=0.9974  val_acc=0.9972  (best)\n",
      "Epoch 048  LR=0.05  train_loss=0.00793294  val_loss=0.04383868  train_acc=0.9974  val_acc=0.9973  (best)\n",
      "Epoch 049  LR=0.05  train_loss=0.00709050  val_loss=0.04775558  train_acc=0.9977  val_acc=0.9976\n",
      "Epoch 050  LR=0.05  train_loss=0.00813376  val_loss=0.05137939  train_acc=0.9978  val_acc=0.9976\n",
      "Epoch 051  LR=0.05  train_loss=0.00659816  val_loss=0.05477742  train_acc=0.998   val_acc=0.9976\n",
      "Epoch 052  LR=0.05  train_loss=0.00674762  val_loss=0.05323208  train_acc=0.9981  val_acc=0.9976\n",
      "Epoch 053  LR=0.05  train_loss=0.00748948  val_loss=0.05460057  train_acc=0.9981  val_acc=0.9978\n",
      "Epoch 054  LR=0.05  train_loss=0.00664619  val_loss=0.05124069  train_acc=0.9982  val_acc=0.9979\n",
      "Epoch 055  LR=0.05  train_loss=0.00553202  val_loss=0.04326066  train_acc=0.9985  val_acc=0.9981  (best)\n",
      "Epoch 056  LR=0.05  train_loss=0.00486160  val_loss=0.03821425  train_acc=0.9987  val_acc=0.9981  (best)\n",
      "Epoch 057  LR=0.05  train_loss=0.00522515  val_loss=0.04341794  train_acc=0.9986  val_acc=0.9981\n",
      "Epoch 058  LR=0.05  train_loss=0.00494785  val_loss=0.04771669  train_acc=0.9986  val_acc=0.9983\n",
      "Epoch 059  LR=0.05  train_loss=0.00603830  val_loss=0.04875974  train_acc=0.9986  val_acc=0.9983\n",
      "Epoch 060  LR=0.05  train_loss=0.00609185  val_loss=0.04696755  train_acc=0.9987  val_acc=0.9985\n",
      "Epoch 061  LR=0.05  train_loss=0.00568768  val_loss=0.04621347  train_acc=0.9987  val_acc=0.9985\n",
      "Epoch 062  LR=0.05  train_loss=0.00459552  val_loss=0.04050857  train_acc=0.9988  val_acc=0.9985\n",
      "Epoch 063  LR=0.05  train_loss=0.00369005  val_loss=0.03905256  train_acc=0.9992  val_acc=0.9986\n",
      "Epoch 064  LR=0.05  train_loss=0.00553884  val_loss=0.03644850  train_acc=0.999   val_acc=0.9984  (best)\n",
      "Epoch 065  LR=0.05  train_loss=0.00333667  val_loss=0.04389371  train_acc=0.999   val_acc=0.9984\n",
      "Epoch 066  LR=0.05  train_loss=0.00382024  val_loss=0.04566048  train_acc=0.999   val_acc=0.9984\n",
      "Epoch 067  LR=0.05  train_loss=0.00360945  val_loss=0.04269028  train_acc=0.9989  val_acc=0.9984\n",
      "Epoch 068  LR=0.05  train_loss=0.00343263  val_loss=0.04267069  train_acc=0.999   val_acc=0.9986\n",
      "Epoch 069  LR=0.05  train_loss=0.00302474  val_loss=0.04191030  train_acc=0.9991  val_acc=0.9985\n",
      "Epoch 070  LR=0.05  train_loss=0.00310033  val_loss=0.03950926  train_acc=0.9993  val_acc=0.9988\n",
      "Epoch 071  LR=0.05  train_loss=0.00281403  val_loss=0.03706329  train_acc=0.9992  val_acc=0.9989\n",
      "Epoch 072  LR=0.05  train_loss=0.00354358  val_loss=0.03991638  train_acc=0.9991  val_acc=0.9986\n",
      "Epoch 073  LR=0.05  train_loss=0.00312249  val_loss=0.05126038  train_acc=0.999   val_acc=0.9985\n",
      "Epoch 074  LR=0.05  train_loss=0.00429268  val_loss=0.05411562  train_acc=0.999   val_acc=0.9985\n",
      "Epoch 075  LR=0.05  train_loss=0.00464701  val_loss=0.04999455  train_acc=0.9991  val_acc=0.9988\n",
      "Epoch 076  LR=0.05  train_loss=0.00430844  val_loss=0.04014038  train_acc=0.999   val_acc=0.9987\n",
      "Epoch 077  LR=0.05  train_loss=0.00424357  val_loss=0.03758582  train_acc=0.9992  val_acc=0.9988\n",
      "Epoch 078  LR=0.05  train_loss=0.00375608  val_loss=0.04267765  train_acc=0.9992  val_acc=0.999 \n",
      "Epoch 079  LR=0.05  train_loss=0.00355476  val_loss=0.04758333  train_acc=0.9993  val_acc=0.9989\n",
      "Epoch 080  LR=0.05  train_loss=0.00493160  val_loss=0.04544839  train_acc=0.9992  val_acc=0.9987\n",
      "Epoch 081  LR=0.05  train_loss=0.00428940  val_loss=0.04292940  train_acc=0.9992  val_acc=0.9987\n",
      "Epoch 082  LR=0.05  train_loss=0.00288230  val_loss=0.04077621  train_acc=0.9991  val_acc=0.9986\n",
      "Epoch 083  LR=0.05  train_loss=0.00513219  val_loss=0.04394956  train_acc=0.9991  val_acc=0.9986\n",
      "Epoch 084  LR=0.05  train_loss=0.00500303  val_loss=0.05137585  train_acc=0.9991  val_acc=0.9986\n",
      "Epoch 085  LR=0.05  train_loss=0.00418543  val_loss=0.05195956  train_acc=0.9993  val_acc=0.9985\n",
      "Epoch 086  LR=0.05  train_loss=0.00400862  val_loss=0.04504509  train_acc=0.9994  val_acc=0.9987\n",
      "Epoch 087  LR=0.05  train_loss=0.00327231  val_loss=0.03890545  train_acc=0.9994  val_acc=0.9988\n",
      "Epoch 088  LR=0.05  train_loss=0.00309957  val_loss=0.03258512  train_acc=0.9994  val_acc=0.9986  (best)\n",
      "Epoch 089  LR=0.05  train_loss=0.00240171  val_loss=0.03853377  train_acc=0.9994  val_acc=0.9986\n",
      "Epoch 090  LR=0.05  train_loss=0.00251560  val_loss=0.04796285  train_acc=0.9992  val_acc=0.9985\n",
      "Epoch 091  LR=0.05  train_loss=0.00289459  val_loss=0.05128931  train_acc=0.9993  val_acc=0.9986\n",
      "Epoch 092  LR=0.05  train_loss=0.00337132  val_loss=0.04878400  train_acc=0.9994  val_acc=0.9987\n",
      "Epoch 093  LR=0.05  train_loss=0.00275388  val_loss=0.04153323  train_acc=0.9995  val_acc=0.9986\n",
      "Epoch 094  LR=0.05  train_loss=0.00175057  val_loss=0.03484340  train_acc=0.9996  val_acc=0.9987\n",
      "Epoch 095  LR=0.05  train_loss=0.00248297  val_loss=0.03599220  train_acc=0.9995  val_acc=0.999 \n",
      "Epoch 096  LR=0.05  train_loss=0.00201467  val_loss=0.03940831  train_acc=0.9996  val_acc=0.9989\n",
      "Epoch 097  LR=0.05  train_loss=0.00229063  val_loss=0.04270441  train_acc=0.9995  val_acc=0.9987\n",
      "Epoch 098  LR=0.05  train_loss=0.00190978  val_loss=0.04370197  train_acc=0.9996  val_acc=0.9985\n",
      "Epoch 099  LR=0.05  train_loss=0.00221028  val_loss=0.04347002  train_acc=0.9995  val_acc=0.9985\n",
      "\n",
      "best model: epoch=88 val_loss=0.03258512\n",
      "\n",
      "train accuracy:  [0.9993965517241379]\n",
      "train precision: [0.9993870106753067]\n",
      "train recall:    [0.9993965517241379]\n",
      "train F1:        [0.9993778078357173]\n",
      "\n",
      "/usr/local/lib/python3.6/dist-packages/sklearn/metrics/_classification.py:1248: UndefinedMetricWarning: Precision is ill-defined and being set to 0.0 in labels with no predicted samples. Use `zero_division` parameter to control this behavior.\n",
      "  _warn_prf(average, modifier, msg_start, len(result))\n",
      "val accuracy:    [0.9986206896551724]\n",
      "val precision:   [0.9982610992019746]\n",
      "val recall:      [0.9986206896551724]\n",
      "val F1:          [0.9984208423450618]\n",
      "\n"
     ]
    }
   ],
   "source": [
    "!python3 train.py --data data/shuttle.csv --inputs 0,1,2,3,4,5,6,7,8 --outputs class --classification --epochs 100\n"
   ]
  },
  {
   "cell_type": "markdown",
   "metadata": {
    "id": "SxPwczd4_QjB"
   },
   "source": [
    "# Notes\n",
    "\n",
    "* We provide the model files for GRU RNN model and linear model in this repo.Please check the model files in ../models/ "
   ]
  },
  {
   "cell_type": "markdown",
   "metadata": {
    "id": "cqrWXApH_W7Q"
   },
   "source": [
    "# What's next?\n",
    "\n",
    "* For the lab exercise, we encourage you to source\n",
    "your own data, prepare it, and then make a model with train.py.   \n",
    "\n",
    "* Datasets typically require a little preparation, you can see those\n",
    "scripts here:\n",
    "\n",
    "  https://github.com/dusty-nv/pytorch-timeseries/tree/main/scripts"
   ]
  },
  {
   "cell_type": "code",
   "execution_count": null,
   "metadata": {
    "id": "90tcBM6eCjVB"
   },
   "outputs": [],
   "source": [
    "# Example: Running the train.py script (if you have your dataset ready and environment set up)\n",
    "\n",
    "!python pytorch-timeseries/train.py --data ./my_dataset.csv --input_features feature1 feature2 feature3 --output_features target"
   ]
  },
  {
   "cell_type": "code",
   "execution_count": 8,
   "metadata": {},
   "outputs": [
    {
     "name": "stdout",
     "output_type": "stream",
     "text": [
      "  adding: ../../ (stored 0%)\n",
      "  adding: ../../data/ (stored 0%)\n",
      "  adding: ../../data/.ipynb_checkpoints/ (stored 0%)\n",
      "  adding: ../../data/.ipynb_checkpoints/solar_power-checkpoint.csv (deflated 62%)\n",
      "  adding: ../../data/.ipynb_checkpoints/solar_power-checkpoint.jpg (deflated 14%)\n",
      "  adding: ../../data/.ipynb_checkpoints/shuttle-checkpoint.csv (deflated 72%)\n",
      "  adding: ../../data/weather.jpg (deflated 10%)\n",
      "  adding: ../../data/solar_power.jpg (deflated 14%)\n",
      "  adding: ../../data/weather_temperature.jpg (deflated 14%)\n",
      "  adding: ../../data/weather.csv (deflated 76%)\n",
      "  adding: ../../data/solar_power.csv (deflated 62%)\n",
      "  adding: ../../data/shuttle.csv (deflated 72%)\n",
      "  adding: ../../Module-1-Lab-solar-power-pred.py (deflated 44%)\n",
      "  adding: ../../.ipynb_checkpoints/ (stored 0%)\n",
      "  adding: ../../.ipynb_checkpoints/Module-1-Lab-space-shuttle-class-checkpoint.ipynb (deflated 75%)\n",
      "  adding: ../../.ipynb_checkpoints/Module-1-Lab-weather-pred-hand-coded-checkpoint.ipynb (deflated 76%)\n",
      "  adding: ../../.ipynb_checkpoints/Module-1-Lab-weather-pred-checkpoint.ipynb (deflated 37%)\n",
      "  adding: ../../.ipynb_checkpoints/Module-1-Lab-solar-power-pred-checkpoint.ipynb (deflated 42%)\n",
      "  adding: ../../Module-1-Lab-weather-pred-hand-coded.py (deflated 62%)\n",
      "  adding: ../../Module-1-Lab-solar-power-pred.html (deflated 84%)\n",
      "  adding: ../../Module-1-Lab-space-shuttle-class.html (deflated 84%)\n",
      "  adding: ../../Module-1-Lab-weather-pred-hand-coded.html (deflated 85%)\n",
      "  adding: ../../pytorch-timeseries/ (stored 0%)\n",
      "  adding: ../../pytorch-timeseries/data/ (stored 0%)\n",
      "  adding: ../../pytorch-timeseries/data/weather.jpg (deflated 10%)\n",
      "  adding: ../../pytorch-timeseries/data/solar_power.jpg (deflated 14%)\n",
      "  adding: ../../pytorch-timeseries/data/weather_temperature.jpg (deflated 14%)\n",
      "  adding: ../../pytorch-timeseries/data/weather.csv (deflated 82%)\n",
      "  adding: ../../pytorch-timeseries/data/solar_power.csv (deflated 67%)\n",
      "  adding: ../../pytorch-timeseries/data/shuttle.csv (deflated 72%)\n",
      "  adding: ../../pytorch-timeseries/scripts/ (stored 0%)\n",
      "  adding: ../../pytorch-timeseries/scripts/prepare_shuttle.py (deflated 52%)\n",
      "  adding: ../../pytorch-timeseries/scripts/prepare_weather.py (deflated 50%)\n",
      "  adding: ../../pytorch-timeseries/scripts/prepare_solar.py (deflated 53%)\n",
      "  adding: ../../pytorch-timeseries/README.md (deflated 55%)\n",
      "  adding: ../../pytorch-timeseries/train.py (deflated 65%)\n",
      "  adding: ../../pytorch-timeseries/models/ (stored 0%)\n",
      "  adding: ../../pytorch-timeseries/models/__init__.py (deflated 42%)\n",
      "  adding: ../../pytorch-timeseries/models/gru.py (deflated 51%)\n",
      "  adding: ../../pytorch-timeseries/models/.ipynb_checkpoints/ (stored 0%)\n",
      "  adding: ../../pytorch-timeseries/models/.ipynb_checkpoints/gru-checkpoint.py (deflated 51%)\n",
      "  adding: ../../pytorch-timeseries/models/linear.py (deflated 60%)\n",
      "  adding: ../../pytorch-timeseries/models/__pycache__/ (stored 0%)\n",
      "  adding: ../../pytorch-timeseries/models/__pycache__/gru.cpython-36.pyc (deflated 35%)\n",
      "  adding: ../../pytorch-timeseries/models/__pycache__/__init__.cpython-36.pyc (deflated 25%)\n",
      "  adding: ../../pytorch-timeseries/models/__pycache__/linear.cpython-36.pyc (deflated 39%)\n",
      "  adding: ../../pytorch-timeseries/.git/ (stored 0%)\n",
      "  adding: ../../pytorch-timeseries/.git/description (deflated 14%)\n",
      "  adding: ../../pytorch-timeseries/.git/index (deflated 44%)\n",
      "  adding: ../../pytorch-timeseries/.git/HEAD (stored 0%)\n",
      "  adding: ../../pytorch-timeseries/.git/branches/ (stored 0%)\n",
      "  adding: ../../pytorch-timeseries/.git/refs/ (stored 0%)\n",
      "  adding: ../../pytorch-timeseries/.git/refs/heads/ (stored 0%)\n",
      "  adding: ../../pytorch-timeseries/.git/refs/heads/main (stored 0%)\n",
      "  adding: ../../pytorch-timeseries/.git/refs/remotes/ (stored 0%)\n",
      "  adding: ../../pytorch-timeseries/.git/refs/remotes/origin/ (stored 0%)\n",
      "  adding: ../../pytorch-timeseries/.git/refs/remotes/origin/HEAD (stored 0%)\n",
      "  adding: ../../pytorch-timeseries/.git/refs/tags/ (stored 0%)\n",
      "  adding: ../../pytorch-timeseries/.git/logs/ (stored 0%)\n",
      "  adding: ../../pytorch-timeseries/.git/logs/HEAD (deflated 29%)\n",
      "  adding: ../../pytorch-timeseries/.git/logs/refs/ (stored 0%)\n",
      "  adding: ../../pytorch-timeseries/.git/logs/refs/heads/ (stored 0%)\n",
      "  adding: ../../pytorch-timeseries/.git/logs/refs/heads/main (deflated 29%)\n",
      "  adding: ../../pytorch-timeseries/.git/logs/refs/remotes/ (stored 0%)\n",
      "  adding: ../../pytorch-timeseries/.git/logs/refs/remotes/origin/ (stored 0%)\n",
      "  adding: ../../pytorch-timeseries/.git/logs/refs/remotes/origin/HEAD (deflated 29%)\n",
      "  adding: ../../pytorch-timeseries/.git/info/ (stored 0%)\n",
      "  adding: ../../pytorch-timeseries/.git/info/exclude (deflated 28%)\n",
      "  adding: ../../pytorch-timeseries/.git/config (deflated 34%)\n",
      "  adding: ../../pytorch-timeseries/.git/objects/ (stored 0%)\n",
      "  adding: ../../pytorch-timeseries/.git/objects/info/ (stored 0%)\n",
      "  adding: ../../pytorch-timeseries/.git/objects/pack/ (stored 0%)\n",
      "  adding: ../../pytorch-timeseries/.git/objects/pack/pack-e629a10a0cebfa9051f78a170c5465f19d6a7320.pack (deflated 0%)\n",
      "  adding: ../../pytorch-timeseries/.git/objects/pack/pack-e629a10a0cebfa9051f78a170c5465f19d6a7320.idx (deflated 17%)\n",
      "  adding: ../../pytorch-timeseries/.git/packed-refs (deflated 9%)\n",
      "  adding: ../../pytorch-timeseries/.git/hooks/ (stored 0%)\n",
      "  adding: ../../pytorch-timeseries/.git/hooks/prepare-commit-msg.sample (deflated 50%)\n",
      "  adding: ../../pytorch-timeseries/.git/hooks/post-update.sample (deflated 27%)\n",
      "  adding: ../../pytorch-timeseries/.git/hooks/fsmonitor-watchman.sample (deflated 53%)\n",
      "  adding: ../../pytorch-timeseries/.git/hooks/pre-commit.sample (deflated 43%)\n",
      "  adding: ../../pytorch-timeseries/.git/hooks/pre-rebase.sample (deflated 59%)\n",
      "  adding: ../../pytorch-timeseries/.git/hooks/pre-push.sample (deflated 50%)\n",
      "  adding: ../../pytorch-timeseries/.git/hooks/commit-msg.sample (deflated 44%)\n",
      "  adding: ../../pytorch-timeseries/.git/hooks/pre-applypatch.sample (deflated 38%)\n",
      "  adding: ../../pytorch-timeseries/.git/hooks/applypatch-msg.sample (deflated 42%)\n",
      "  adding: ../../pytorch-timeseries/.git/hooks/pre-receive.sample (deflated 40%)\n",
      "  adding: ../../pytorch-timeseries/.git/hooks/update.sample (deflated 68%)\n",
      "  adding: ../../pytorch-timeseries/pytorch-timeseries/ (stored 0%)\n",
      "  adding: ../../pytorch-timeseries/pytorch-timeseries/data/ (stored 0%)\n",
      "  adding: ../../pytorch-timeseries/pytorch-timeseries/data/weather.jpg (deflated 10%)\n",
      "  adding: ../../pytorch-timeseries/pytorch-timeseries/data/solar_power.jpg (deflated 14%)\n",
      "  adding: ../../pytorch-timeseries/pytorch-timeseries/data/weather_temperature.jpg (deflated 14%)\n",
      "  adding: ../../pytorch-timeseries/pytorch-timeseries/data/weather.csv (deflated 82%)\n",
      "  adding: ../../pytorch-timeseries/pytorch-timeseries/data/solar_power.csv (deflated 67%)\n",
      "  adding: ../../pytorch-timeseries/pytorch-timeseries/data/shuttle.csv (deflated 72%)\n",
      "  adding: ../../pytorch-timeseries/pytorch-timeseries/scripts/ (stored 0%)\n",
      "  adding: ../../pytorch-timeseries/pytorch-timeseries/scripts/prepare_shuttle.py (deflated 52%)\n",
      "  adding: ../../pytorch-timeseries/pytorch-timeseries/scripts/prepare_weather.py (deflated 50%)\n",
      "  adding: ../../pytorch-timeseries/pytorch-timeseries/scripts/prepare_solar.py (deflated 53%)\n",
      "  adding: ../../pytorch-timeseries/pytorch-timeseries/README.md (deflated 55%)\n",
      "  adding: ../../pytorch-timeseries/pytorch-timeseries/train.py (deflated 65%)\n",
      "  adding: ../../pytorch-timeseries/pytorch-timeseries/models/ (stored 0%)\n",
      "  adding: ../../pytorch-timeseries/pytorch-timeseries/models/__init__.py (deflated 42%)\n",
      "  adding: ../../pytorch-timeseries/pytorch-timeseries/models/gru.py (deflated 51%)\n",
      "  adding: ../../pytorch-timeseries/pytorch-timeseries/models/linear.py (deflated 60%)\n",
      "  adding: ../../pytorch-timeseries/pytorch-timeseries/models/__pycache__/ (stored 0%)\n",
      "  adding: ../../pytorch-timeseries/pytorch-timeseries/models/__pycache__/gru.cpython-36.pyc (deflated 36%)\n",
      "  adding: ../../pytorch-timeseries/pytorch-timeseries/models/__pycache__/__init__.cpython-36.pyc (deflated 27%)\n",
      "  adding: ../../pytorch-timeseries/pytorch-timeseries/models/__pycache__/linear.cpython-36.pyc (deflated 40%)\n",
      "  adding: ../../pytorch-timeseries/pytorch-timeseries/.git/ (stored 0%)\n",
      "  adding: ../../pytorch-timeseries/pytorch-timeseries/.git/description (deflated 14%)\n",
      "  adding: ../../pytorch-timeseries/pytorch-timeseries/.git/index (deflated 44%)\n",
      "  adding: ../../pytorch-timeseries/pytorch-timeseries/.git/HEAD (stored 0%)\n",
      "  adding: ../../pytorch-timeseries/pytorch-timeseries/.git/branches/ (stored 0%)\n",
      "  adding: ../../pytorch-timeseries/pytorch-timeseries/.git/refs/ (stored 0%)\n",
      "  adding: ../../pytorch-timeseries/pytorch-timeseries/.git/refs/heads/ (stored 0%)\n",
      "  adding: ../../pytorch-timeseries/pytorch-timeseries/.git/refs/heads/main (stored 0%)\n",
      "  adding: ../../pytorch-timeseries/pytorch-timeseries/.git/refs/remotes/ (stored 0%)\n",
      "  adding: ../../pytorch-timeseries/pytorch-timeseries/.git/refs/remotes/origin/ (stored 0%)\n",
      "  adding: ../../pytorch-timeseries/pytorch-timeseries/.git/refs/remotes/origin/HEAD (stored 0%)\n",
      "  adding: ../../pytorch-timeseries/pytorch-timeseries/.git/refs/tags/ (stored 0%)\n",
      "  adding: ../../pytorch-timeseries/pytorch-timeseries/.git/logs/ (stored 0%)\n",
      "  adding: ../../pytorch-timeseries/pytorch-timeseries/.git/logs/HEAD (deflated 28%)\n",
      "  adding: ../../pytorch-timeseries/pytorch-timeseries/.git/logs/refs/ (stored 0%)\n",
      "  adding: ../../pytorch-timeseries/pytorch-timeseries/.git/logs/refs/heads/ (stored 0%)\n",
      "  adding: ../../pytorch-timeseries/pytorch-timeseries/.git/logs/refs/heads/main (deflated 28%)\n",
      "  adding: ../../pytorch-timeseries/pytorch-timeseries/.git/logs/refs/remotes/ (stored 0%)\n",
      "  adding: ../../pytorch-timeseries/pytorch-timeseries/.git/logs/refs/remotes/origin/ (stored 0%)\n",
      "  adding: ../../pytorch-timeseries/pytorch-timeseries/.git/logs/refs/remotes/origin/HEAD (deflated 28%)\n",
      "  adding: ../../pytorch-timeseries/pytorch-timeseries/.git/info/ (stored 0%)\n",
      "  adding: ../../pytorch-timeseries/pytorch-timeseries/.git/info/exclude (deflated 28%)\n",
      "  adding: ../../pytorch-timeseries/pytorch-timeseries/.git/config (deflated 34%)\n",
      "  adding: ../../pytorch-timeseries/pytorch-timeseries/.git/objects/ (stored 0%)\n",
      "  adding: ../../pytorch-timeseries/pytorch-timeseries/.git/objects/info/ (stored 0%)\n",
      "  adding: ../../pytorch-timeseries/pytorch-timeseries/.git/objects/pack/ (stored 0%)\n",
      "  adding: ../../pytorch-timeseries/pytorch-timeseries/.git/objects/pack/pack-e629a10a0cebfa9051f78a170c5465f19d6a7320.pack (deflated 0%)\n",
      "  adding: ../../pytorch-timeseries/pytorch-timeseries/.git/objects/pack/pack-e629a10a0cebfa9051f78a170c5465f19d6a7320.idx (deflated 17%)\n",
      "  adding: ../../pytorch-timeseries/pytorch-timeseries/.git/packed-refs (deflated 9%)\n",
      "  adding: ../../pytorch-timeseries/pytorch-timeseries/.git/hooks/ (stored 0%)\n",
      "  adding: ../../pytorch-timeseries/pytorch-timeseries/.git/hooks/prepare-commit-msg.sample (deflated 50%)\n",
      "  adding: ../../pytorch-timeseries/pytorch-timeseries/.git/hooks/post-update.sample (deflated 27%)\n",
      "  adding: ../../pytorch-timeseries/pytorch-timeseries/.git/hooks/fsmonitor-watchman.sample (deflated 53%)\n",
      "  adding: ../../pytorch-timeseries/pytorch-timeseries/.git/hooks/pre-commit.sample (deflated 43%)\n",
      "  adding: ../../pytorch-timeseries/pytorch-timeseries/.git/hooks/pre-rebase.sample (deflated 59%)\n",
      "  adding: ../../pytorch-timeseries/pytorch-timeseries/.git/hooks/pre-push.sample (deflated 50%)\n",
      "  adding: ../../pytorch-timeseries/pytorch-timeseries/.git/hooks/commit-msg.sample (deflated 44%)\n",
      "  adding: ../../pytorch-timeseries/pytorch-timeseries/.git/hooks/pre-applypatch.sample (deflated 38%)\n",
      "  adding: ../../pytorch-timeseries/pytorch-timeseries/.git/hooks/applypatch-msg.sample (deflated 42%)\n",
      "  adding: ../../pytorch-timeseries/pytorch-timeseries/.git/hooks/pre-receive.sample (deflated 40%)\n",
      "  adding: ../../pytorch-timeseries/pytorch-timeseries/.git/hooks/update.sample (deflated 68%)\n",
      "  adding: ../../pytorch-timeseries/pytorch-timeseries/dataset.py (deflated 74%)\n",
      "  adding: ../../pytorch-timeseries/pytorch-timeseries/weather.py (deflated 63%)\n",
      "  adding: ../../pytorch-timeseries/pytorch-timeseries/__pycache__/ (stored 0%)\n",
      "  adding: ../../pytorch-timeseries/pytorch-timeseries/__pycache__/model.cpython-36.pyc (deflated 48%)\n",
      "  adding: ../../pytorch-timeseries/pytorch-timeseries/__pycache__/dataset.cpython-36.pyc (deflated 54%)\n",
      "  adding: ../../pytorch-timeseries/pytorch-timeseries/model.py (deflated 71%)\n",
      "  adding: ../../pytorch-timeseries/pytorch-timeseries/docker/ (stored 0%)\n",
      "  adding: ../../pytorch-timeseries/pytorch-timeseries/docker/tag.sh (deflated 62%)\n",
      "  adding: ../../pytorch-timeseries/pytorch-timeseries/docker/l4t_version.sh (deflated 50%)\n",
      "  adding: ../../pytorch-timeseries/pytorch-timeseries/docker/run.sh (deflated 69%)\n",
      "  adding: ../../pytorch-timeseries/pytorch-timeseries/.gitignore (deflated 46%)\n",
      "  adding: ../../pytorch-timeseries/dataset.py (deflated 74%)\n",
      "  adding: ../../pytorch-timeseries/weather.py (deflated 63%)\n",
      "  adding: ../../pytorch-timeseries/__pycache__/ (stored 0%)\n",
      "  adding: ../../pytorch-timeseries/__pycache__/model.cpython-36.pyc (deflated 48%)\n",
      "  adding: ../../pytorch-timeseries/__pycache__/dataset.cpython-36.pyc (deflated 54%)\n",
      "  adding: ../../pytorch-timeseries/model.py (deflated 71%)\n",
      "  adding: ../../pytorch-timeseries/docker/ (stored 0%)\n",
      "  adding: ../../pytorch-timeseries/docker/tag.sh (deflated 62%)\n",
      "  adding: ../../pytorch-timeseries/docker/l4t_version.sh (deflated 50%)\n",
      "  adding: ../../pytorch-timeseries/docker/run.sh (deflated 69%)\n",
      "  adding: ../../pytorch-timeseries/Group17_Assignment.zip (stored 0%)\n",
      "  adding: ../../pytorch-timeseries/.gitignore (deflated 46%)\n",
      "  adding: ../../actual_vs_predicted.png (deflated 3%)\n",
      "  adding: ../../Module-1-Lab-solar-power-pred.ipynb (deflated 42%)\n",
      "  adding: ../../Module-1-Lab-weather-pred.ipynb (deflated 37%)\n",
      "  adding: ../../Module-1-Lab-weather-pred-hand-coded.ipynb (deflated 80%)\n",
      "  adding: ../../Module-1-Lab-space-shuttle-class.ipynb (deflated 76%)\n",
      "  adding: ../../Module-1-Lab-weather-pred.html (deflated 84%)\n",
      "  adding: ../../Module-1-Lab-space-shuttle-class.py (deflated 46%)\n",
      "  adding: ../../Module-1-Lab-time-series-pytorch.docx (deflated 10%)\n",
      "  adding: ../../Module-1-lab-weather-pred.py (deflated 50%)\n"
     ]
    }
   ],
   "source": [
    "!zip -r ../../Group17_Assignment.zip ../..\n"
   ]
  },
  {
   "cell_type": "code",
   "execution_count": null,
   "metadata": {},
   "outputs": [],
   "source": []
  }
 ],
 "metadata": {
  "colab": {
   "collapsed_sections": [],
   "name": "Module-1-Lab-space-shuttle-class.ipynb",
   "provenance": []
  },
  "kernelspec": {
   "display_name": "Python 3",
   "language": "python",
   "name": "python3"
  },
  "language_info": {
   "codemirror_mode": {
    "name": "ipython",
    "version": 3
   },
   "file_extension": ".py",
   "mimetype": "text/x-python",
   "name": "python",
   "nbconvert_exporter": "python",
   "pygments_lexer": "ipython3",
   "version": "3.6.9"
  }
 },
 "nbformat": 4,
 "nbformat_minor": 4
}
