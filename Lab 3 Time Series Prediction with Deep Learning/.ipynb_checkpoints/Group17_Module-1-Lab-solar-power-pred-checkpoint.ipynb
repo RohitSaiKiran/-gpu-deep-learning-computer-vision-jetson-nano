{
 "cells": [
  {
   "cell_type": "markdown",
   "metadata": {
    "id": "mJM2fvmfH3O6"
   },
   "source": [
    "Time-series forecasting and prediction on tabular data using PyTorch. Supports Jetson Nano, TX1/TX2, AGX Xavier, and Xavier NX."
   ]
  },
  {
   "cell_type": "markdown",
   "metadata": {
    "id": "YEa34p8L-MXB"
   },
   "source": [
    "# Solar Power Prediction\n",
    "\n",
    "This [dataset](https://www.kaggle.com/anikannal/solar-power-generation-data) contains solar panel power generation data along with environmental conditions from a solar power plant. The goal is to predict generated power given sthe ambient temperature and amount of sunlight. In this example, we are predicting 2 outputs (AC and DC power)"
   ]
  },
  {
   "cell_type": "markdown",
   "metadata": {
    "id": "ofwee72jIS6v"
   },
   "source": [
    "# Getting Started\n",
    "\n",
    "## Software Requirement\n",
    "\n",
    "- PyTorch\n",
    "- CUDA"
   ]
  },
  {
   "cell_type": "markdown",
   "metadata": {
    "id": "QxqN1ZrQC_WD"
   },
   "source": [
    "## Starting the container"
   ]
  },
  {
   "cell_type": "code",
   "execution_count": 1,
   "metadata": {
    "id": "v82J7ZKbHUIq"
   },
   "outputs": [
    {
     "name": "stdout",
     "output_type": "stream",
     "text": [
      "Cloning into 'pytorch-timeseries'...\n",
      "remote: Enumerating objects: 131, done.\u001b[K\n",
      "remote: Counting objects: 100% (131/131), done.\u001b[K\n",
      "remote: Compressing objects: 100% (83/83), done.\u001b[K\n",
      "remote: Total 131 (delta 58), reused 114 (delta 44), pack-reused 0 (from 0)\u001b[K\n",
      "Receiving objects: 100% (131/131), 3.76 MiB | 431.00 KiB/s, done.\n",
      "Resolving deltas: 100% (58/58), done.\n"
     ]
    }
   ],
   "source": [
    "!git clone https://github.com/dusty-nv/pytorch-timeseries"
   ]
  },
  {
   "cell_type": "code",
   "execution_count": 2,
   "metadata": {
    "id": "XmP83rkOIqtQ"
   },
   "outputs": [
    {
     "name": "stdout",
     "output_type": "stream",
     "text": [
      "/nvdli-nano/data/Group17_Assignment/Lab 3/pytorch-timeseries\n"
     ]
    }
   ],
   "source": [
    "cd pytorch-timeseries"
   ]
  },
  {
   "cell_type": "code",
   "execution_count": 3,
   "metadata": {
    "id": "1jljLeJAIqzf"
   },
   "outputs": [
    {
     "name": "stdout",
     "output_type": "stream",
     "text": [
      "head: cannot open '/etc/nv_tegra_release' for reading: No such file or directory\n",
      "reading L4T version from \"dpkg-query --show nvidia-l4t-core\"\n",
      "dpkg-query: no packages found matching nvidia-l4t-core\n",
      "L4T BSP Version:  L4T R.\n",
      "CONTAINER:     \n",
      "DEV_VOLUME:    \n",
      "DATA_VOLUME:   --volume /nvdli-nano/data/Group17_Assignment/Lab 3/pytorch-timeseries:/pytorch-timeseries\n",
      "USER_VOLUME:   \n",
      "USER_COMMAND:  \n",
      "docker/run.sh: line 141: sudo: command not found\n"
     ]
    }
   ],
   "source": [
    "!docker/run.sh"
   ]
  },
  {
   "cell_type": "code",
   "execution_count": 4,
   "metadata": {
    "id": "BhmpEJcyIq5Q"
   },
   "outputs": [
    {
     "name": "stdout",
     "output_type": "stream",
     "text": [
      "[Errno 2] No such file or directory: 'pytorch-timeseries'\n",
      "/nvdli-nano/data/Group17_Assignment/Lab 3/pytorch-timeseries\n"
     ]
    }
   ],
   "source": [
    "cd pytorch-timeseries"
   ]
  },
  {
   "cell_type": "markdown",
   "metadata": {
    "id": "96sgPeu5HmgE"
   },
   "source": [
    "# Running the training script\n",
    "\n",
    "Train.py allows you to:\n",
    "\n",
    "- pick any number of inputs / outputs\n",
    "- support both regression and classification\n",
    "- easily change the model\n",
    "- automatic plotting\n",
    "\n"
   ]
  },
  {
   "cell_type": "code",
   "execution_count": 5,
   "metadata": {
    "id": "cdWXIFKCAbpp"
   },
   "outputs": [
    {
     "name": "stdout",
     "output_type": "stream",
     "text": [
      "Namespace(batch_size=-1, classification=False, data='data/solar_power.csv', epochs=250, history=0, horizon=0, input_scaler='standard', inputs='AMBIENT_TEMPERATURE,IRRADIATION', learning_rate=0.05, metrics='RMSE,R2', model='linear', output_scaler='standard', outputs='DC_POWER,AC_POWER', plot='data/solar_power.jpg', plot_height=1080, plot_width=1920, plot_x=0, scheduler='StepLR_250')\n",
      "loading data/solar_power.csv\n",
      "\n",
      "*************************************************\n",
      "** DATASET INFO\n",
      "*************************************************\n",
      "train:        2525 samples\n",
      "val:          631 samples\n",
      "inputs:       2 ['AMBIENT_TEMPERATURE', 'IRRADIATION']\n",
      "outputs:      2 ['DC_POWER', 'AC_POWER']\n",
      "columns:      ['DATE_TIME', 'DC_POWER', 'AC_POWER', 'AMBIENT_TEMPERATURE', 'MODULE_TEMPERATURE', 'IRRADIATION']\n",
      "\n",
      "                DATE_TIME  DC_POWER  ...  MODULE_TEMPERATURE  IRRADIATION\n",
      "0     2020-05-15 00:00:00       0.0  ...           22.857507          0.0\n",
      "1     2020-05-15 00:15:00       0.0  ...           22.761668          0.0\n",
      "2     2020-05-15 00:30:00       0.0  ...           22.592306          0.0\n",
      "3     2020-05-15 00:45:00       0.0  ...           22.360852          0.0\n",
      "4     2020-05-15 01:00:00       0.0  ...           22.165423          0.0\n",
      "...                   ...       ...  ...                 ...          ...\n",
      "3152  2020-06-17 22:45:00       0.0  ...           21.480377          0.0\n",
      "3153  2020-06-17 23:00:00       0.0  ...           21.389024          0.0\n",
      "3154  2020-06-17 23:15:00       0.0  ...           20.709211          0.0\n",
      "3155  2020-06-17 23:30:00       0.0  ...           20.734963          0.0\n",
      "3156  2020-06-17 23:45:00       0.0  ...           20.427972          0.0\n",
      "\n",
      "[3157 rows x 6 columns]\n",
      "Epoch 000  LR=0.05  train_loss=0.95697808  val_loss=11.67162323  (best)\n",
      "Epoch 001  LR=0.05  train_loss=16.05534363  val_loss=10.33480549  (best)\n",
      "Epoch 002  LR=0.05  train_loss=12.82536602  val_loss=4.30429268  (best)\n",
      "Epoch 003  LR=0.05  train_loss=5.20403242  val_loss=1.23368514  (best)\n",
      "Epoch 004  LR=0.05  train_loss=1.42298937  val_loss=0.61744541  (best)\n",
      "Epoch 005  LR=0.05  train_loss=0.74504775  val_loss=0.52210754  (best)\n",
      "Epoch 006  LR=0.05  train_loss=0.67059195  val_loss=0.46364087  (best)\n",
      "Epoch 007  LR=0.05  train_loss=0.59437585  val_loss=0.41543555  (best)\n",
      "Epoch 008  LR=0.05  train_loss=0.48451781  val_loss=0.35670501  (best)\n",
      "Epoch 009  LR=0.05  train_loss=0.36003453  val_loss=0.27072933  (best)\n",
      "Epoch 010  LR=0.05  train_loss=0.25025031  val_loss=0.16993988  (best)\n",
      "Epoch 011  LR=0.05  train_loss=0.16332728  val_loss=0.12071171  (best)\n",
      "Epoch 012  LR=0.05  train_loss=0.14516471  val_loss=0.12183046\n",
      "Epoch 013  LR=0.05  train_loss=0.16700515  val_loss=0.08875442  (best)\n",
      "Epoch 014  LR=0.05  train_loss=0.13543251  val_loss=0.06346559  (best)\n",
      "Epoch 015  LR=0.05  train_loss=0.13604838  val_loss=0.05790050  (best)\n",
      "Epoch 016  LR=0.05  train_loss=0.14277329  val_loss=0.04460738  (best)\n",
      "Epoch 017  LR=0.05  train_loss=0.09592306  val_loss=0.04910829\n",
      "Epoch 018  LR=0.05  train_loss=0.06538630  val_loss=0.05187065\n",
      "Epoch 019  LR=0.05  train_loss=0.05978524  val_loss=0.02276605  (best)\n",
      "Epoch 020  LR=0.05  train_loss=0.02249261  val_loss=0.02660494\n",
      "Epoch 021  LR=0.05  train_loss=0.03224407  val_loss=0.03579080\n",
      "Epoch 022  LR=0.05  train_loss=0.04807239  val_loss=0.02250731  (best)\n",
      "Epoch 023  LR=0.05  train_loss=0.04620559  val_loss=0.02162907  (best)\n",
      "Epoch 024  LR=0.05  train_loss=0.06310278  val_loss=0.02075542  (best)\n",
      "Epoch 025  LR=0.05  train_loss=0.04569482  val_loss=0.02735988\n",
      "Epoch 026  LR=0.05  train_loss=0.03665410  val_loss=0.02160214\n",
      "Epoch 027  LR=0.05  train_loss=0.02822389  val_loss=0.01687498  (best)\n",
      "Epoch 028  LR=0.05  train_loss=0.01797915  val_loss=0.02817547\n",
      "Epoch 029  LR=0.05  train_loss=0.02863447  val_loss=0.02020647\n",
      "Epoch 030  LR=0.05  train_loss=0.02374709  val_loss=0.01668577  (best)\n",
      "Epoch 031  LR=0.05  train_loss=0.02881517  val_loss=0.01451984  (best)\n",
      "Epoch 032  LR=0.05  train_loss=0.02549631  val_loss=0.00985251  (best)\n",
      "Epoch 033  LR=0.05  train_loss=0.01614198  val_loss=0.00906963  (best)\n",
      "Epoch 034  LR=0.05  train_loss=0.01694940  val_loss=0.00652163  (best)\n",
      "Epoch 035  LR=0.05  train_loss=0.01019418  val_loss=0.01685613\n",
      "Epoch 036  LR=0.05  train_loss=0.01582085  val_loss=0.01512184\n",
      "Epoch 037  LR=0.05  train_loss=0.01552246  val_loss=0.00719074\n",
      "Epoch 038  LR=0.05  train_loss=0.01753312  val_loss=0.00809750\n",
      "Epoch 039  LR=0.05  train_loss=0.01662683  val_loss=0.01440295\n",
      "Epoch 040  LR=0.05  train_loss=0.01272252  val_loss=0.01539384\n",
      "Epoch 041  LR=0.05  train_loss=0.01259271  val_loss=0.00595754  (best)\n",
      "Epoch 042  LR=0.05  train_loss=0.00898052  val_loss=0.00484309  (best)\n",
      "Epoch 043  LR=0.05  train_loss=0.01195520  val_loss=0.00470358  (best)\n",
      "Epoch 044  LR=0.05  train_loss=0.00971628  val_loss=0.00650975\n",
      "Epoch 045  LR=0.05  train_loss=0.01180035  val_loss=0.00398124  (best)\n",
      "Epoch 046  LR=0.05  train_loss=0.00904810  val_loss=0.00397757  (best)\n",
      "Epoch 047  LR=0.05  train_loss=0.00929061  val_loss=0.00416737\n",
      "Epoch 048  LR=0.05  train_loss=0.00790362  val_loss=0.00670233\n",
      "Epoch 049  LR=0.05  train_loss=0.00825532  val_loss=0.00696451\n",
      "Epoch 050  LR=0.05  train_loss=0.00847582  val_loss=0.00503867\n",
      "Epoch 051  LR=0.05  train_loss=0.00813006  val_loss=0.00462457\n",
      "Epoch 052  LR=0.05  train_loss=0.00813746  val_loss=0.00506768\n",
      "Epoch 053  LR=0.05  train_loss=0.00698545  val_loss=0.00560638\n",
      "Epoch 054  LR=0.05  train_loss=0.00712791  val_loss=0.00459358\n",
      "Epoch 055  LR=0.05  train_loss=0.00659042  val_loss=0.00427305\n",
      "Epoch 056  LR=0.05  train_loss=0.00705033  val_loss=0.00331149  (best)\n",
      "Epoch 057  LR=0.05  train_loss=0.00678925  val_loss=0.00362503\n",
      "Epoch 058  LR=0.05  train_loss=0.00664886  val_loss=0.00400785\n",
      "Epoch 059  LR=0.05  train_loss=0.00632685  val_loss=0.00373198\n",
      "Epoch 060  LR=0.05  train_loss=0.00601441  val_loss=0.00312922  (best)\n",
      "Epoch 061  LR=0.05  train_loss=0.00626166  val_loss=0.00378041\n",
      "Epoch 062  LR=0.05  train_loss=0.00615689  val_loss=0.00544661\n",
      "Epoch 063  LR=0.05  train_loss=0.00645179  val_loss=0.00498264\n",
      "Epoch 064  LR=0.05  train_loss=0.00613865  val_loss=0.00381568\n",
      "Epoch 065  LR=0.05  train_loss=0.00603347  val_loss=0.00367674\n",
      "Epoch 066  LR=0.05  train_loss=0.00581367  val_loss=0.00425752\n",
      "Epoch 067  LR=0.05  train_loss=0.00570683  val_loss=0.00427186\n",
      "Epoch 068  LR=0.05  train_loss=0.00589740  val_loss=0.00371475\n",
      "Epoch 069  LR=0.05  train_loss=0.00578071  val_loss=0.00360395\n",
      "Epoch 070  LR=0.05  train_loss=0.00593253  val_loss=0.00335194\n",
      "Epoch 071  LR=0.05  train_loss=0.00567028  val_loss=0.00373860\n",
      "Epoch 072  LR=0.05  train_loss=0.00565483  val_loss=0.00395444\n",
      "Epoch 073  LR=0.05  train_loss=0.00559344  val_loss=0.00350373\n",
      "Epoch 074  LR=0.05  train_loss=0.00558635  val_loss=0.00336478\n",
      "Epoch 075  LR=0.05  train_loss=0.00571308  val_loss=0.00381553\n",
      "Epoch 076  LR=0.05  train_loss=0.00561915  val_loss=0.00401130\n",
      "Epoch 077  LR=0.05  train_loss=0.00562634  val_loss=0.00344600\n",
      "Epoch 078  LR=0.05  train_loss=0.00551602  val_loss=0.00320666\n",
      "Epoch 079  LR=0.05  train_loss=0.00548728  val_loss=0.00347300\n",
      "Epoch 080  LR=0.05  train_loss=0.00548563  val_loss=0.00360653\n",
      "Epoch 081  LR=0.05  train_loss=0.00551208  val_loss=0.00352998\n",
      "Epoch 082  LR=0.05  train_loss=0.00546836  val_loss=0.00347070\n",
      "Epoch 083  LR=0.05  train_loss=0.00546745  val_loss=0.00344540\n",
      "Epoch 084  LR=0.05  train_loss=0.00539409  val_loss=0.00380768\n",
      "Epoch 085  LR=0.05  train_loss=0.00538408  val_loss=0.00401667\n",
      "Epoch 086  LR=0.05  train_loss=0.00539818  val_loss=0.00365841\n",
      "Epoch 087  LR=0.05  train_loss=0.00538538  val_loss=0.00356714\n",
      "Epoch 088  LR=0.05  train_loss=0.00539088  val_loss=0.00383868\n",
      "Epoch 089  LR=0.05  train_loss=0.00535855  val_loss=0.00369599\n",
      "Epoch 090  LR=0.05  train_loss=0.00532313  val_loss=0.00335535\n",
      "Epoch 091  LR=0.05  train_loss=0.00531720  val_loss=0.00335976\n",
      "Epoch 092  LR=0.05  train_loss=0.00532770  val_loss=0.00343307\n",
      "Epoch 093  LR=0.05  train_loss=0.00531366  val_loss=0.00345402\n",
      "Epoch 094  LR=0.05  train_loss=0.00531295  val_loss=0.00341172\n",
      "Epoch 095  LR=0.05  train_loss=0.00528768  val_loss=0.00335685\n",
      "Epoch 096  LR=0.05  train_loss=0.00527042  val_loss=0.00352724\n",
      "Epoch 097  LR=0.05  train_loss=0.00526909  val_loss=0.00368097\n",
      "Epoch 098  LR=0.05  train_loss=0.00527465  val_loss=0.00349355\n",
      "Epoch 099  LR=0.05  train_loss=0.00526266  val_loss=0.00340638\n",
      "Epoch 100  LR=0.05  train_loss=0.00525781  val_loss=0.00353730\n",
      "Epoch 101  LR=0.05  train_loss=0.00524456  val_loss=0.00346480\n",
      "Epoch 102  LR=0.05  train_loss=0.00523523  val_loss=0.00334024\n",
      "Epoch 103  LR=0.05  train_loss=0.00523244  val_loss=0.00337210\n",
      "Epoch 104  LR=0.05  train_loss=0.00523333  val_loss=0.00342533\n",
      "Epoch 105  LR=0.05  train_loss=0.00522359  val_loss=0.00349296\n",
      "Epoch 106  LR=0.05  train_loss=0.00521480  val_loss=0.00349181\n",
      "Epoch 107  LR=0.05  train_loss=0.00521004  val_loss=0.00348524\n",
      "Epoch 108  LR=0.05  train_loss=0.00520609  val_loss=0.00360516\n",
      "Epoch 109  LR=0.05  train_loss=0.00520113  val_loss=0.00360976\n",
      "Epoch 110  LR=0.05  train_loss=0.00519678  val_loss=0.00348836\n",
      "Epoch 111  LR=0.05  train_loss=0.00519244  val_loss=0.00352065\n",
      "Epoch 112  LR=0.05  train_loss=0.00518675  val_loss=0.00353509\n",
      "Epoch 113  LR=0.05  train_loss=0.00518352  val_loss=0.00348038\n",
      "Epoch 114  LR=0.05  train_loss=0.00518051  val_loss=0.00347600\n",
      "Epoch 115  LR=0.05  train_loss=0.00517744  val_loss=0.00347237\n",
      "Epoch 116  LR=0.05  train_loss=0.00517252  val_loss=0.00352537\n",
      "Epoch 117  LR=0.05  train_loss=0.00517020  val_loss=0.00350958\n",
      "Epoch 118  LR=0.05  train_loss=0.00516746  val_loss=0.00344831\n",
      "Epoch 119  LR=0.05  train_loss=0.00516507  val_loss=0.00351188\n",
      "Epoch 120  LR=0.05  train_loss=0.00516092  val_loss=0.00351085\n",
      "Epoch 121  LR=0.05  train_loss=0.00515886  val_loss=0.00346325\n",
      "Epoch 122  LR=0.05  train_loss=0.00515701  val_loss=0.00349271\n",
      "Epoch 123  LR=0.05  train_loss=0.00515487  val_loss=0.00352417\n",
      "Epoch 124  LR=0.05  train_loss=0.00515175  val_loss=0.00354539\n",
      "Epoch 125  LR=0.05  train_loss=0.00514851  val_loss=0.00354197\n",
      "Epoch 126  LR=0.05  train_loss=0.00514695  val_loss=0.00351760\n",
      "Epoch 127  LR=0.05  train_loss=0.00514553  val_loss=0.00355709\n",
      "Epoch 128  LR=0.05  train_loss=0.00514238  val_loss=0.00351972\n",
      "Epoch 129  LR=0.05  train_loss=0.00513981  val_loss=0.00350686\n",
      "Epoch 130  LR=0.05  train_loss=0.00513805  val_loss=0.00351705\n",
      "Epoch 131  LR=0.05  train_loss=0.00513591  val_loss=0.00351706\n",
      "Epoch 132  LR=0.05  train_loss=0.00513337  val_loss=0.00353120\n",
      "Epoch 133  LR=0.05  train_loss=0.00513131  val_loss=0.00353238\n",
      "Epoch 134  LR=0.05  train_loss=0.00512940  val_loss=0.00353149\n",
      "Epoch 135  LR=0.05  train_loss=0.00512693  val_loss=0.00354386\n",
      "Epoch 136  LR=0.05  train_loss=0.00512487  val_loss=0.00352534\n",
      "Epoch 137  LR=0.05  train_loss=0.00512329  val_loss=0.00354582\n",
      "Epoch 138  LR=0.05  train_loss=0.00512131  val_loss=0.00354204\n",
      "Epoch 139  LR=0.05  train_loss=0.00511907  val_loss=0.00354347\n",
      "Epoch 140  LR=0.05  train_loss=0.00511716  val_loss=0.00355170\n",
      "Epoch 141  LR=0.05  train_loss=0.00511539  val_loss=0.00353456\n",
      "Epoch 142  LR=0.05  train_loss=0.00511350  val_loss=0.00355016\n",
      "Epoch 143  LR=0.05  train_loss=0.00511181  val_loss=0.00352314\n",
      "Epoch 144  LR=0.05  train_loss=0.00511046  val_loss=0.00354253\n",
      "Epoch 145  LR=0.05  train_loss=0.00510864  val_loss=0.00354661\n",
      "Epoch 146  LR=0.05  train_loss=0.00510656  val_loss=0.00354393\n",
      "Epoch 147  LR=0.05  train_loss=0.00510490  val_loss=0.00355959\n",
      "Epoch 148  LR=0.05  train_loss=0.00510331  val_loss=0.00356786\n",
      "Epoch 149  LR=0.05  train_loss=0.00510182  val_loss=0.00356922\n",
      "Epoch 150  LR=0.05  train_loss=0.00510025  val_loss=0.00354790\n",
      "Epoch 151  LR=0.05  train_loss=0.00509871  val_loss=0.00356983\n",
      "Epoch 152  LR=0.05  train_loss=0.00509709  val_loss=0.00355341\n",
      "Epoch 153  LR=0.05  train_loss=0.00509545  val_loss=0.00354932\n",
      "Epoch 154  LR=0.05  train_loss=0.00509384  val_loss=0.00354761\n",
      "Epoch 155  LR=0.05  train_loss=0.00509225  val_loss=0.00355778\n",
      "Epoch 156  LR=0.05  train_loss=0.00509074  val_loss=0.00354852\n",
      "Epoch 157  LR=0.05  train_loss=0.00508936  val_loss=0.00356448\n",
      "Epoch 158  LR=0.05  train_loss=0.00508772  val_loss=0.00356229\n",
      "Epoch 159  LR=0.05  train_loss=0.00508617  val_loss=0.00355665\n",
      "Epoch 160  LR=0.05  train_loss=0.00508463  val_loss=0.00357170\n",
      "Epoch 161  LR=0.05  train_loss=0.00508306  val_loss=0.00356395\n",
      "Epoch 162  LR=0.05  train_loss=0.00508154  val_loss=0.00356149\n",
      "Epoch 163  LR=0.05  train_loss=0.00508006  val_loss=0.00356318\n",
      "Epoch 164  LR=0.05  train_loss=0.00507851  val_loss=0.00357543\n",
      "Epoch 165  LR=0.05  train_loss=0.00507701  val_loss=0.00356122\n",
      "Epoch 166  LR=0.05  train_loss=0.00507554  val_loss=0.00357828\n",
      "Epoch 167  LR=0.05  train_loss=0.00507413  val_loss=0.00356942\n",
      "Epoch 168  LR=0.05  train_loss=0.00507276  val_loss=0.00358323\n",
      "Epoch 169  LR=0.05  train_loss=0.00507148  val_loss=0.00355475\n",
      "Epoch 170  LR=0.05  train_loss=0.00507043  val_loss=0.00359868\n",
      "Epoch 171  LR=0.05  train_loss=0.00506978  val_loss=0.00354495\n",
      "Epoch 172  LR=0.05  train_loss=0.00506999  val_loss=0.00361791\n",
      "Epoch 173  LR=0.05  train_loss=0.00507207  val_loss=0.00353222\n",
      "Epoch 174  LR=0.05  train_loss=0.00507816  val_loss=0.00370377\n",
      "Epoch 175  LR=0.05  train_loss=0.00509344  val_loss=0.00351627\n",
      "Epoch 176  LR=0.05  train_loss=0.00513016  val_loss=0.00396685\n",
      "Epoch 177  LR=0.05  train_loss=0.00521841  val_loss=0.00368935\n",
      "Epoch 178  LR=0.05  train_loss=0.00542459  val_loss=0.00503248\n",
      "Epoch 179  LR=0.05  train_loss=0.00591511  val_loss=0.00498767\n",
      "Epoch 180  LR=0.05  train_loss=0.00694820  val_loss=0.00916862\n",
      "Epoch 181  LR=0.05  train_loss=0.00899593  val_loss=0.00834745\n",
      "Epoch 182  LR=0.05  train_loss=0.01061949  val_loss=0.01217709\n",
      "Epoch 183  LR=0.05  train_loss=0.01112473  val_loss=0.00403421\n",
      "Epoch 184  LR=0.05  train_loss=0.00659818  val_loss=0.00399826\n",
      "Epoch 185  LR=0.05  train_loss=0.00531745  val_loss=0.00704615\n",
      "Epoch 186  LR=0.05  train_loss=0.00708886  val_loss=0.00321531\n",
      "Epoch 187  LR=0.05  train_loss=0.00624005  val_loss=0.00462556\n",
      "Epoch 188  LR=0.05  train_loss=0.00566541  val_loss=0.00546860\n",
      "Epoch 189  LR=0.05  train_loss=0.00589523  val_loss=0.00316491\n",
      "Epoch 190  LR=0.05  train_loss=0.00621212  val_loss=0.00429864\n",
      "Epoch 191  LR=0.05  train_loss=0.00539758  val_loss=0.00502828\n",
      "Epoch 192  LR=0.05  train_loss=0.00574231  val_loss=0.00303725  (best)\n",
      "Epoch 193  LR=0.05  train_loss=0.00582823  val_loss=0.00386177\n",
      "Epoch 194  LR=0.05  train_loss=0.00533215  val_loss=0.00456458\n",
      "Epoch 195  LR=0.05  train_loss=0.00562888  val_loss=0.00310849\n",
      "Epoch 196  LR=0.05  train_loss=0.00558475  val_loss=0.00373412\n",
      "Epoch 197  LR=0.05  train_loss=0.00533468  val_loss=0.00428672\n",
      "Epoch 198  LR=0.05  train_loss=0.00538409  val_loss=0.00328392\n",
      "Epoch 199  LR=0.05  train_loss=0.00548761  val_loss=0.00369215\n",
      "Epoch 200  LR=0.05  train_loss=0.00517009  val_loss=0.00435197\n",
      "Epoch 201  LR=0.05  train_loss=0.00536528  val_loss=0.00326661\n",
      "Epoch 202  LR=0.05  train_loss=0.00531144  val_loss=0.00392095\n",
      "Epoch 203  LR=0.05  train_loss=0.00520378  val_loss=0.00429308\n",
      "Epoch 204  LR=0.05  train_loss=0.00522274  val_loss=0.00339742\n",
      "Epoch 205  LR=0.05  train_loss=0.00526265  val_loss=0.00393716\n",
      "Epoch 206  LR=0.05  train_loss=0.00512082  val_loss=0.00420333\n",
      "Epoch 207  LR=0.05  train_loss=0.00521016  val_loss=0.00339181\n",
      "Epoch 208  LR=0.05  train_loss=0.00517522  val_loss=0.00390551\n",
      "Epoch 209  LR=0.05  train_loss=0.00516427  val_loss=0.00383191\n",
      "Epoch 210  LR=0.05  train_loss=0.00509226  val_loss=0.00339929\n",
      "Epoch 211  LR=0.05  train_loss=0.00518538  val_loss=0.00377255\n",
      "Epoch 212  LR=0.05  train_loss=0.00508832  val_loss=0.00371967\n",
      "Epoch 213  LR=0.05  train_loss=0.00511994  val_loss=0.00341921\n",
      "Epoch 214  LR=0.05  train_loss=0.00509966  val_loss=0.00393134\n",
      "Epoch 215  LR=0.05  train_loss=0.00512226  val_loss=0.00370617\n",
      "Epoch 216  LR=0.05  train_loss=0.00506165  val_loss=0.00355189\n",
      "Epoch 217  LR=0.05  train_loss=0.00510211  val_loss=0.00396047\n",
      "Epoch 218  LR=0.05  train_loss=0.00507715  val_loss=0.00369640\n",
      "Epoch 219  LR=0.05  train_loss=0.00507740  val_loss=0.00361359\n",
      "Epoch 220  LR=0.05  train_loss=0.00506186  val_loss=0.00388333\n",
      "Epoch 221  LR=0.05  train_loss=0.00506736  val_loss=0.00361290\n",
      "Epoch 222  LR=0.05  train_loss=0.00505678  val_loss=0.00363035\n",
      "Epoch 223  LR=0.05  train_loss=0.00504200  val_loss=0.00380128\n",
      "Epoch 224  LR=0.05  train_loss=0.00506149  val_loss=0.00355080\n",
      "Epoch 225  LR=0.05  train_loss=0.00504425  val_loss=0.00370894\n",
      "Epoch 226  LR=0.05  train_loss=0.00504906  val_loss=0.00377326\n",
      "Epoch 227  LR=0.05  train_loss=0.00503337  val_loss=0.00359658\n",
      "Epoch 228  LR=0.05  train_loss=0.00504707  val_loss=0.00381995\n",
      "Epoch 229  LR=0.05  train_loss=0.00503004  val_loss=0.00377834\n",
      "Epoch 230  LR=0.05  train_loss=0.00503526  val_loss=0.00366644\n",
      "Epoch 231  LR=0.05  train_loss=0.00503170  val_loss=0.00385076\n",
      "Epoch 232  LR=0.05  train_loss=0.00503219  val_loss=0.00367224\n",
      "Epoch 233  LR=0.05  train_loss=0.00502611  val_loss=0.00365533\n",
      "Epoch 234  LR=0.05  train_loss=0.00501970  val_loss=0.00375663\n",
      "Epoch 235  LR=0.05  train_loss=0.00502624  val_loss=0.00356159\n",
      "Epoch 236  LR=0.05  train_loss=0.00501998  val_loss=0.00368376\n",
      "Epoch 237  LR=0.05  train_loss=0.00502031  val_loss=0.00368903\n",
      "Epoch 238  LR=0.05  train_loss=0.00501420  val_loss=0.00357387\n",
      "Epoch 239  LR=0.05  train_loss=0.00501824  val_loss=0.00374542\n",
      "Epoch 240  LR=0.05  train_loss=0.00501330  val_loss=0.00366272\n",
      "Epoch 241  LR=0.05  train_loss=0.00501101  val_loss=0.00367220\n",
      "Epoch 242  LR=0.05  train_loss=0.00501036  val_loss=0.00376711\n",
      "Epoch 243  LR=0.05  train_loss=0.00500888  val_loss=0.00367786\n",
      "Epoch 244  LR=0.05  train_loss=0.00500957  val_loss=0.00373636\n",
      "Epoch 245  LR=0.05  train_loss=0.00500469  val_loss=0.00371448\n",
      "Epoch 246  LR=0.05  train_loss=0.00500531  val_loss=0.00364776\n",
      "Epoch 247  LR=0.05  train_loss=0.00500344  val_loss=0.00371202\n",
      "Epoch 248  LR=0.05  train_loss=0.00500329  val_loss=0.00362154\n",
      "Epoch 249  LR=0.005  train_loss=0.00500201  val_loss=0.00365527\n",
      "\n",
      "best model: epoch=192 val_loss=0.00303725\n",
      "\n",
      "train RMSE: [6913.428066223335, 660.7415815092622]\n",
      "train R2:   [0.9940434960050661, 0.9943000498996737]\n",
      "\n",
      "val RMSE:   [4932.1011671420965, 482.7722311434536]\n",
      "val R2:     [0.9963376622546521, 0.9963295327100908]\n",
      "\n",
      "saved plot to data/solar_power.jpg\n"
     ]
    }
   ],
   "source": [
    "!python3 train.py --data data/solar_power.csv --inputs AMBIENT_TEMPERATURE,IRRADIATION --outputs DC_POWER,AC_POWER\n"
   ]
  },
  {
   "cell_type": "markdown",
   "metadata": {
    "id": "SxPwczd4_QjB"
   },
   "source": [
    "# Notes\n",
    "\n",
    "We provide the model files for GRU RNN model and linear model in this repo. Please check the model files in ../models/ "
   ]
  },
  {
   "cell_type": "markdown",
   "metadata": {
    "id": "cqrWXApH_W7Q"
   },
   "source": [
    "# Now use the data Provide to craete a Mondelbrot or Graph"
   ]
  },
  {
   "cell_type": "code",
   "execution_count": 18,
   "metadata": {},
   "outputs": [
    {
     "data": {
      "image/png": "[encoded data removed]",
      "text/plain": [
       "<matplotlib.figure.Figure at 0x7f6ba9ff60>"
      ]
     },
     "metadata": {
      "needs_background": "light"
     },
     "output_type": "display_data"
    }
   ],
   "source": [
    "# Mandelbrot Set Visualization\n",
    "\n",
    "import numpy as np\n",
    "import matplotlib.pyplot as plt\n",
    "\n",
    "# Image size (pixels)\n",
    "width, height = 800, 800\n",
    "\n",
    "# Plot window (real and imaginary axis bounds)\n",
    "re_min, re_max = -2.0, 1.0\n",
    "im_min, im_max = -1.5, 1.5\n",
    "\n",
    "# Maximum number of iterations\n",
    "max_iter = 100\n",
    "\n",
    "# Create a complex grid\n",
    "re = np.linspace(re_min, re_max, width)\n",
    "im = np.linspace(im_min, im_max, height)\n",
    "c = re[np.newaxis, :] + 1j * im[:, np.newaxis]\n",
    "\n",
    "# Initialize z to zero\n",
    "z = np.zeros_like(c)\n",
    "div_time = np.zeros(z.shape, dtype=int)\n",
    "\n",
    "# Mandelbrot iteration\n",
    "for i in range(max_iter):\n",
    "    z = z**2 + c\n",
    "    diverged = np.abs(z) > 2\n",
    "    div_now = diverged & (div_time == 0)\n",
    "    div_time[div_now] = i\n",
    "    z[diverged] = 2\n",
    "\n",
    "# Display the fractal\n",
    "plt.figure(figsize=(8, 8))\n",
    "plt.imshow(div_time, cmap='magma', extent=(re_min, re_max, im_min, im_max))\n",
    "plt.colorbar(label='Number of Iterations')\n",
    "plt.title('Mandelbrot Set')\n",
    "plt.xlabel('Re(c)')\n",
    "plt.ylabel('Im(c)')\n",
    "plt.show()"
   ]
  },
  {
   "cell_type": "code",
   "execution_count": null,
   "metadata": {},
   "outputs": [],
   "source": []
  }
 ],
 "metadata": {
  "colab": {
   "collapsed_sections": [],
   "name": "Module-1-Lab-solar-power-pred.ipynb",
   "provenance": []
  },
  "kernelspec": {
   "display_name": "Python 3",
   "language": "python",
   "name": "python3"
  },
  "language_info": {
   "codemirror_mode": {
    "name": "ipython",
    "version": 3
   },
   "file_extension": ".py",
   "mimetype": "text/x-python",
   "name": "python",
   "nbconvert_exporter": "python",
   "pygments_lexer": "ipython3",
   "version": "3.6.9"
  }
 },
 "nbformat": 4,
 "nbformat_minor": 4
}
