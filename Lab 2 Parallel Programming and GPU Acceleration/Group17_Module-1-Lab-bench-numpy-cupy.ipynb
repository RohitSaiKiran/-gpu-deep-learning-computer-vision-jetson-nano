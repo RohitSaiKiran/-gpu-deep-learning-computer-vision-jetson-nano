{
 "cells": [
  {
   "cell_type": "markdown",
   "metadata": {
    "id": "bIS7kPs-LZvU"
   },
   "source": [
    "# **Performance best practices**\n",
    "\n",
    "Array operations with GPUs can provide considerable speedups over CPU computing.\n",
    "\n",
    "[CuPy](https://cupy.dev/) is an open-source array library for GPU-accelerated computing with Python. CuPy utilizes CUDA Toolkit libraries including cuBLAS, cuRAND, cuSOLVER, cuSPARSE, cuFFT, cuDNN and NCCL to make full use of the GPU architecture.\n",
    "\n",
    "*  Most operations perform well on a GPU using CuPy. CuPy speeds up some operations more than 100X.\n",
    "\n",
    "*  CuPy's interface is highly compatible with NumPy. CuPy supports various methods, indexing, data types, broadcasting and more. This [comparison table](https://docs.cupy.dev/en/stable/reference/comparison.html) shows a list of NumPy and their corresponding CuPy implementations.\n",
    "\n",
    "[NumPy](https://numpy.org/doc/stable/user/whatisnumpy.html) is the fundamental package for scientific computing in Python. It is a Python library that provides a multidimensional array object, various derived objects (such as masked arrays and matrices), and an assortment of routines for fast operations on arrays, including mathematical, logical, shape manipulation, sorting, selecting, I/O, discrete Fourier transforms, basic linear algebra, basic statistical operations, random simulation and much more.\n",
    "\n"
   ]
  },
  {
   "cell_type": "markdown",
   "metadata": {
    "id": "s3MzFNh0JOx3"
   },
   "source": [
    "## **Benchmarking speed- NumPy vs CuPy**"
   ]
  },
  {
   "cell_type": "markdown",
   "metadata": {
    "id": "D-8IpCusOdfa"
   },
   "source": [
    "In this tutorial, we will perform some opeations using NumPy and CuPy library and we will benchmark the time."
   ]
  },
  {
   "cell_type": "code",
   "execution_count": 1,
   "metadata": {
    "id": "wgTcdb1GJOx0"
   },
   "outputs": [],
   "source": [
    "# import libraries\n",
    "import numpy as np\n",
    "import cupy"
   ]
  },
  {
   "cell_type": "markdown",
   "metadata": {
    "id": "9Q8sW5ykRBFn"
   },
   "source": [
    "Let's start with creating an array using NumPy and CuPy and compare the time."
   ]
  },
  {
   "cell_type": "markdown",
   "metadata": {
    "id": "Ku7Gu62CJOx3"
   },
   "source": [
    "### **Creating an array with NumPy**"
   ]
  },
  {
   "cell_type": "code",
   "execution_count": 2,
   "metadata": {
    "id": "CnfIHTkGJOx4"
   },
   "outputs": [
    {
     "name": "stdout",
     "output_type": "stream",
     "text": [
      "CPU times: user 48 ms, sys: 8 ms, total: 56 ms\n",
      "Wall time: 53.5 ms\n"
     ]
    }
   ],
   "source": [
    "%%time\n",
    "np_var1 = np.random.random((1000, 1000))\n",
    "np_var2 = np.random.random((1000, 1000))"
   ]
  },
  {
   "cell_type": "markdown",
   "metadata": {
    "id": "UF2KxiJeNi86"
   },
   "source": [
    "### **Creating and array with CuPy**"
   ]
  },
  {
   "cell_type": "code",
   "execution_count": 3,
   "metadata": {
    "id": "1ePwSjMuJOx5"
   },
   "outputs": [],
   "source": [
    "import cupy\n",
    "\n",
    "cp_var1 = cupy.random.random((1000, 1000))\n",
    "cp_var2 = cupy.random.random((1000, 1000))\n",
    "cupy.cuda.Stream.null.synchronize()"
   ]
  },
  {
   "cell_type": "code",
   "execution_count": 4,
   "metadata": {
    "id": "rFutKMJGJOx5"
   },
   "outputs": [
    {
     "data": {
      "text/plain": [
       "array([[0.86139284, 0.51968382, 0.64682396, ..., 0.5719297 , 0.02804524,\n",
       "        0.90956737],\n",
       "       [0.77313878, 0.49454304, 0.42123998, ..., 0.90027678, 0.47534394,\n",
       "        0.72142304],\n",
       "       [0.25829272, 0.36737239, 0.20694988, ..., 0.95112   , 0.69233084,\n",
       "        0.29654616],\n",
       "       ...,\n",
       "       [0.58576955, 0.01539602, 0.47200234, ..., 0.22742476, 0.31980811,\n",
       "        0.66098713],\n",
       "       [0.27765078, 0.99942745, 0.39060747, ..., 0.79641963, 0.53399145,\n",
       "        0.39524481],\n",
       "       [0.95848978, 0.72407359, 0.43415957, ..., 0.04734325, 0.59349766,\n",
       "        0.78951583]])"
      ]
     },
     "execution_count": 4,
     "metadata": {},
     "output_type": "execute_result"
    }
   ],
   "source": [
    "# print the numpy array\n",
    "import numpy as np\n",
    "np_var1 = np.random.random((1000, 1000))\n",
    "np_var1 "
   ]
  },
  {
   "cell_type": "code",
   "execution_count": 5,
   "metadata": {
    "id": "vhMq7V8-JOx6"
   },
   "outputs": [
    {
     "data": {
      "text/plain": [
       "array([[0.50679817, 0.88649618, 0.76166695, ..., 0.76044118, 0.59973805,\n",
       "        0.02745095],\n",
       "       [0.91170895, 0.91294462, 0.21397125, ..., 0.27013075, 0.90983984,\n",
       "        0.2507654 ],\n",
       "       [0.97663516, 0.36242495, 0.98456868, ..., 0.99710868, 0.99481914,\n",
       "        0.39645813],\n",
       "       ...,\n",
       "       [0.67855648, 0.97348506, 0.31238627, ..., 0.48497102, 0.19246986,\n",
       "        0.41768917],\n",
       "       [0.87243899, 0.34477809, 0.83757912, ..., 0.25456894, 0.62435893,\n",
       "        0.56858035],\n",
       "       [0.54647418, 0.0370549 , 0.60770487, ..., 0.40473857, 0.47062977,\n",
       "        0.80280961]])"
      ]
     },
     "execution_count": 5,
     "metadata": {},
     "output_type": "execute_result"
    }
   ],
   "source": [
    "# print the cupy array\n",
    "import cupy\n",
    "\n",
    "cp_var1 = cupy.random.random((10000, 10000))\n",
    "cp_var1"
   ]
  },
  {
   "cell_type": "markdown",
   "metadata": {
    "id": "jWpib_dLJOx6"
   },
   "source": [
    "### **Trigonometric function**\n",
    "\n",
    "Let's do some trigonometric operations and compare the time."
   ]
  },
  {
   "cell_type": "code",
   "execution_count": 6,
   "metadata": {
    "id": "HDCYYekAJOx6"
   },
   "outputs": [
    {
     "name": "stdout",
     "output_type": "stream",
     "text": [
      "165 ms ± 357 µs per loop (mean ± std. dev. of 7 runs, 1 loop each)\n"
     ]
    }
   ],
   "source": [
    "import numpy as np\n",
    "\n",
    "np_var1 = np.random.random((1000, 1000))\n",
    "np_var2 = np.random.random((1000, 1000))\n",
    "\n",
    "%timeit bool((np.sin(np_var1) ** 2 + np.cos(np_var1) ** 2 == 1).all())"
   ]
  },
  {
   "cell_type": "code",
   "execution_count": 7,
   "metadata": {
    "id": "XgQEqhvgJOx7"
   },
   "outputs": [
    {
     "name": "stdout",
     "output_type": "stream",
     "text": [
      "63.3 ms ± 5.13 ms per loop (mean ± std. dev. of 7 runs, 1 loop each)\n"
     ]
    }
   ],
   "source": [
    "import cupy\n",
    "\n",
    "cp_var1 = cupy.random.random((1000, 1000))\n",
    "cp_var2 = cupy.random.random((1000, 1000))\n",
    "cupy.cuda.Stream.null.synchronize()\n",
    "\n",
    "%timeit bool((cupy.sin(cp_var2) ** 2 + cupy.cos(cp_var2) ** 2 == 1).all())"
   ]
  },
  {
   "cell_type": "markdown",
   "metadata": {
    "id": "v83A4q_oJOx7"
   },
   "source": [
    "### **Multiplying the array**\n",
    "\n",
    "Let's do some aritmetic operations and compare the time."
   ]
  },
  {
   "cell_type": "code",
   "execution_count": 8,
   "metadata": {
    "id": "7ImvTgc8JOx7"
   },
   "outputs": [],
   "source": [
    "import numpy as np\n",
    "\n",
    "np_var1 = np.random.random((1000, 1000))\n",
    "\n",
    "np_var1 *= 10"
   ]
  },
  {
   "cell_type": "code",
   "execution_count": 9,
   "metadata": {
    "id": "b5I5-wD7JOx7"
   },
   "outputs": [],
   "source": [
    "import cupy\n",
    "\n",
    "cp_var1 = cupy.random.random((1000, 1000))\n",
    "\n",
    "cp_var1 *= 10\n",
    "cupy.cuda.Stream.null.synchronize()"
   ]
  },
  {
   "cell_type": "markdown",
   "metadata": {
    "id": "5vEb7abfJOx8"
   },
   "source": [
    "### **Performing multiple operations on the array**"
   ]
  },
  {
   "cell_type": "code",
   "execution_count": 10,
   "metadata": {
    "id": "jDQ37Zu5JOx8"
   },
   "outputs": [],
   "source": [
    "import numpy as np\n",
    "\n",
    "np_var1 = np.random.random((1000, 1000))\n",
    "np_var2 = np.random.random((1000, 1000))\n",
    "\n",
    "np_var1 *= 10\n",
    "np_var2 *= 20\n",
    "np_var1 *= np_var2"
   ]
  },
  {
   "cell_type": "code",
   "execution_count": 11,
   "metadata": {
    "id": "x-Dn9MUzJOx8"
   },
   "outputs": [],
   "source": [
    "import cupy\n",
    "\n",
    "cp_var1 = cupy.random.random((1000, 1000))\n",
    "cp_var2 = cupy.random.random((1000, 1000))\n",
    "\n",
    "cp_var1 *= 10\n",
    "cp_var2 *= 20\n",
    "cp_var1 *= cp_var2\n",
    "cupy.cuda.Stream.null.synchronize()"
   ]
  },
  {
   "cell_type": "markdown",
   "metadata": {
    "id": "_yg2_xxJPvyH"
   },
   "source": [
    "# **Exercise**\n",
    "You can also find other operations from [the comparison table](https://docs.cupy.dev/en/stable/reference/comparison.html).\n",
    "\n",
    "Use the following operations do NumPy and CuPy implementation and then benchmark the times. \n",
    "- numpy.absolute | cupy.absolute\n",
    "- numpy.median | cupy.median\n",
    "- numpy.resize | cupy.resize\n",
    "- numpy.shape | cupy.shape\n",
    "- numpy.ndarray.fill() | cupy.ndarray.fill()"
   ]
  },
  {
   "cell_type": "code",
   "execution_count": 14,
   "metadata": {},
   "outputs": [],
   "source": [
    "import numpy as np\n",
    "import cupy as cp\n",
    "import time\n",
    "import warnings\n",
    "warnings.filterwarnings(\"ignore\")\n",
    "\n",
    "def benchmark(label, numpy_func, cupy_func, *args, **kwargs):\n",
    "    # NumPy\n",
    "    start = time.time()\n",
    "    numpy_result = numpy_func(*args, **kwargs)\n",
    "    numpy_time = time.time() - start\n",
    "\n",
    "    # CuPy\n",
    "    cp_args = [cp.asarray(arg) if isinstance(arg, np.ndarray) else arg for arg in args]\n",
    "    start = time.time()\n",
    "    cupy_result = cupy_func(*cp_args, **kwargs)\n",
    "    cp.cuda.Device(0).synchronize()\n",
    "    cupy_time = time.time() - start\n",
    "\n",
    "    print(f\"{label} | NumPy: {numpy_time:.6f}s | CuPy: {cupy_time:.6f}s\")\n",
    "    return numpy_result, cupy_result"
   ]
  },
  {
   "cell_type": "code",
   "execution_count": 17,
   "metadata": {},
   "outputs": [],
   "source": [
    "# Generate large random array\n",
    "np_data = np.random.randn(1000000).astype(np.float32)"
   ]
  },
  {
   "cell_type": "code",
   "execution_count": 19,
   "metadata": {},
   "outputs": [
    {
     "name": "stdout",
     "output_type": "stream",
     "text": [
      "absolute | NumPy: 0.003473s | CuPy: 0.009852s\n"
     ]
    },
    {
     "data": {
      "text/plain": [
       "(array([0.29724455, 0.08564132, 0.8278056 , ..., 0.8533848 , 1.3613843 ,\n",
       "        1.0353965 ], dtype=float32),\n",
       " array([0.29724455, 0.08564132, 0.8278056 , ..., 0.8533848 , 1.3613843 ,\n",
       "        1.0353965 ], dtype=float32))"
      ]
     },
     "execution_count": 19,
     "metadata": {},
     "output_type": "execute_result"
    }
   ],
   "source": [
    "# 1. absolute\n",
    "benchmark(\"absolute\", np.absolute, cp.absolute, np_data)"
   ]
  },
  {
   "cell_type": "code",
   "execution_count": 20,
   "metadata": {},
   "outputs": [
    {
     "name": "stdout",
     "output_type": "stream",
     "text": [
      "median | NumPy: 0.033503s | CuPy: 1.756849s\n"
     ]
    },
    {
     "data": {
      "text/plain": [
       "(-0.0006930663, array(-0.00069307, dtype=float32))"
      ]
     },
     "execution_count": 20,
     "metadata": {},
     "output_type": "execute_result"
    }
   ],
   "source": [
    "# 2. median\n",
    "benchmark(\"median\", np.median, cp.median, np_data)"
   ]
  },
  {
   "cell_type": "code",
   "execution_count": 21,
   "metadata": {},
   "outputs": [
    {
     "name": "stdout",
     "output_type": "stream",
     "text": [
      "resize | NumPy: 0.001640s | CuPy: 0.787733s\n"
     ]
    },
    {
     "data": {
      "text/plain": [
       "(array([-0.29724455, -0.08564132,  0.8278056 , ..., -1.3116686 ,\n",
       "        -1.6371326 ,  0.5224464 ], dtype=float32),\n",
       " array([-0.29724455, -0.08564132,  0.8278056 , ..., -1.3116686 ,\n",
       "        -1.6371326 ,  0.5224464 ], dtype=float32))"
      ]
     },
     "execution_count": 21,
     "metadata": {},
     "output_type": "execute_result"
    }
   ],
   "source": [
    "# 3. resize\n",
    "benchmark(\"resize\", np.resize, cp.resize, np_data, (500000,))"
   ]
  },
  {
   "cell_type": "code",
   "execution_count": 22,
   "metadata": {},
   "outputs": [
    {
     "name": "stdout",
     "output_type": "stream",
     "text": [
      "shape | NumPy: (1000000,) | CuPy: (1000000,)\n"
     ]
    }
   ],
   "source": [
    "# 4. shape (accessed directly, not a function)\n",
    "print(\"shape | NumPy:\", np_data.shape, \"| CuPy:\", cp.asarray(np_data).shape)"
   ]
  },
  {
   "cell_type": "code",
   "execution_count": 23,
   "metadata": {},
   "outputs": [
    {
     "name": "stdout",
     "output_type": "stream",
     "text": [
      "fill() | NumPy: 0.003195s | CuPy: 0.764591s\n"
     ]
    }
   ],
   "source": [
    "# 5. ndarray.fill()\n",
    "# NumPy\n",
    "start = time.time()\n",
    "np_fill = np.empty((1000000,), dtype=np.float32)\n",
    "np_fill.fill(7)\n",
    "numpy_fill_time = time.time() - start\n",
    "\n",
    "# CuPy\n",
    "start = time.time()\n",
    "cp_fill = cp.empty((1000000,), dtype=cp.float32)\n",
    "cp_fill.fill(7)\n",
    "cp.cuda.Device(0).synchronize()\n",
    "cupy_fill_time = time.time() - start\n",
    "\n",
    "print(f\"fill() | NumPy: {numpy_fill_time:.6f}s | CuPy: {cupy_fill_time:.6f}s\")"
   ]
  },
  {
   "cell_type": "code",
   "execution_count": null,
   "metadata": {},
   "outputs": [],
   "source": []
  }
 ],
 "metadata": {
  "colab": {
   "collapsed_sections": [],
   "name": "Module-1-Lab-bench-numpy-cupy.ipynb",
   "provenance": []
  },
  "kernelspec": {
   "display_name": "Python 3",
   "language": "python",
   "name": "python3"
  },
  "language_info": {
   "codemirror_mode": {
    "name": "ipython",
    "version": 3
   },
   "file_extension": ".py",
   "mimetype": "text/x-python",
   "name": "python",
   "nbconvert_exporter": "python",
   "pygments_lexer": "ipython3",
   "version": "3.6.9"
  }
 },
 "nbformat": 4,
 "nbformat_minor": 4
}
